{
 "cells": [
  {
   "cell_type": "code",
   "execution_count": null,
   "id": "0caae629-0608-4598-a579-e4efba487e90",
   "metadata": {},
   "outputs": [],
   "source": [
    "# Sai Ram"
   ]
  },
  {
   "cell_type": "code",
   "execution_count": null,
   "id": "897d352b-3520-4003-9e38-4fe72b137e11",
   "metadata": {},
   "outputs": [],
   "source": [
    "# Sai Ram"
   ]
  },
  {
   "cell_type": "code",
   "execution_count": null,
   "id": "de909dfe-514e-4b66-a601-424cf0b14481",
   "metadata": {},
   "outputs": [],
   "source": [
    "# Sai Ram"
   ]
  },
  {
   "cell_type": "markdown",
   "id": "3c1bac1d-e38b-4584-97bd-9e2c33239502",
   "metadata": {},
   "source": [
    "# 25 April - Tuple and Dict"
   ]
  },
  {
   "cell_type": "markdown",
   "id": "013d0606-a887-4bf1-b2c6-80076f53d75b",
   "metadata": {},
   "source": [
    "### Difference and Symmetric difference and symmetric difference update "
   ]
  },
  {
   "cell_type": "code",
   "execution_count": 131,
   "id": "09b6960a-dc34-40c6-a681-ad3fa927eef1",
   "metadata": {},
   "outputs": [],
   "source": [
    "a = {1,2,3,4,5,6,7,8,9}\n",
    "b = {4,5,6,7,8}\n",
    "c = {8,9,10}"
   ]
  },
  {
   "cell_type": "code",
   "execution_count": 132,
   "id": "bf881c27-8d9a-4f23-b2aa-a46451e65793",
   "metadata": {},
   "outputs": [
    {
     "data": {
      "text/plain": [
       "{1, 2, 3, 9}"
      ]
     },
     "execution_count": 132,
     "metadata": {},
     "output_type": "execute_result"
    }
   ],
   "source": [
    "a.difference(b) #it returns the remaining elements of 1st set excluding the common elements of both sets "
   ]
  },
  {
   "cell_type": "code",
   "execution_count": 133,
   "id": "42838c4b-6c08-4aa3-8a99-2c6114bc8c49",
   "metadata": {},
   "outputs": [
    {
     "data": {
      "text/plain": [
       "{1, 2, 3, 9}"
      ]
     },
     "execution_count": 133,
     "metadata": {},
     "output_type": "execute_result"
    }
   ],
   "source": [
    "a.symmetric_difference(b) # returns the umcommon elements of both sets"
   ]
  },
  {
   "cell_type": "code",
   "execution_count": 134,
   "id": "a74743f2-3aa4-4bd9-994a-d79f3c59b5eb",
   "metadata": {},
   "outputs": [
    {
     "data": {
      "text/plain": [
       "{4, 5, 6, 7}"
      ]
     },
     "execution_count": 134,
     "metadata": {},
     "output_type": "execute_result"
    }
   ],
   "source": [
    "b.difference(c) # returns the uncommon elements of 1st set specified"
   ]
  },
  {
   "cell_type": "code",
   "execution_count": 135,
   "id": "5d86bb2a-79af-47f5-8de6-2b94f8c40416",
   "metadata": {},
   "outputs": [
    {
     "data": {
      "text/plain": [
       "{4, 5, 6, 7, 9, 10}"
      ]
     },
     "execution_count": 135,
     "metadata": {},
     "output_type": "execute_result"
    }
   ],
   "source": [
    "b.symmetric_difference(c) # returns the uncommon elements of both sets specified"
   ]
  },
  {
   "cell_type": "code",
   "execution_count": 136,
   "id": "dcb57250-89df-4acd-96ca-2f24b9f1e442",
   "metadata": {},
   "outputs": [
    {
     "data": {
      "text/plain": [
       "{10}"
      ]
     },
     "execution_count": 136,
     "metadata": {},
     "output_type": "execute_result"
    }
   ],
   "source": [
    "c - a # difference function can also be defined as -"
   ]
  },
  {
   "cell_type": "code",
   "execution_count": 137,
   "id": "42bca5e6-5311-4c33-b62f-d8347a60d044",
   "metadata": {},
   "outputs": [
    {
     "data": {
      "text/plain": [
       "{1, 2, 3, 4, 5, 6, 7, 10}"
      ]
     },
     "execution_count": 137,
     "metadata": {},
     "output_type": "execute_result"
    }
   ],
   "source": [
    "c ^ a # symmetric difference can be defined either by symmetric_difference() function or ^ symbol "
   ]
  },
  {
   "cell_type": "code",
   "execution_count": 138,
   "id": "739056c5-46de-44a7-981b-244118a93ffd",
   "metadata": {},
   "outputs": [
    {
     "name": "stdout",
     "output_type": "stream",
     "text": [
      "{1, 2, 3, 4, 5, 6, 7, 8, 9}\n",
      "{8, 9, 10}\n"
     ]
    }
   ],
   "source": [
    "print(a)\n",
    "print(c)"
   ]
  },
  {
   "cell_type": "code",
   "execution_count": 139,
   "id": "98a1395f-bf2f-4a04-973f-dba2b88526d3",
   "metadata": {},
   "outputs": [
    {
     "name": "stdout",
     "output_type": "stream",
     "text": [
      "{1, 2, 3, 4, 5, 6, 7, 10}\n"
     ]
    }
   ],
   "source": [
    "c.symmetric_difference_update(a) # it updates the 1st set with the uncommon elements of both sets(modifies the original set)\n",
    "print(c)"
   ]
  },
  {
   "cell_type": "code",
   "execution_count": 140,
   "id": "5addaebd-4ad4-4366-945e-fa806314753d",
   "metadata": {},
   "outputs": [
    {
     "name": "stdout",
     "output_type": "stream",
     "text": [
      "{1, 2, 3, 4, 5, 6, 7, 8, 9}\n",
      "{1, 2, 3, 4, 5, 6, 7, 10}\n"
     ]
    }
   ],
   "source": [
    "print(a)\n",
    "print(c)"
   ]
  },
  {
   "cell_type": "code",
   "execution_count": 141,
   "id": "13a2e637-e052-47a8-adf3-d80f4f6fca08",
   "metadata": {},
   "outputs": [
    {
     "name": "stdout",
     "output_type": "stream",
     "text": [
      "{8, 9, 10}\n"
     ]
    }
   ],
   "source": [
    "a.symmetric_difference_update(c) # updates the set a with the uncommon elements present in both a and c sets\n",
    "print(a)"
   ]
  },
  {
   "cell_type": "code",
   "execution_count": 142,
   "id": "18231643-f7d9-4e56-9d23-182b90c4c9b1",
   "metadata": {},
   "outputs": [
    {
     "name": "stdout",
     "output_type": "stream",
     "text": [
      "{1, 2, 3, 4, 5, 6, 7, 10}\n",
      "{4, 5, 6, 7, 8}\n"
     ]
    }
   ],
   "source": [
    "print(c)\n",
    "print(b)"
   ]
  },
  {
   "cell_type": "code",
   "execution_count": 143,
   "id": "d9f0506e-a9c1-40bb-b342-14cc68455ece",
   "metadata": {},
   "outputs": [
    {
     "name": "stdout",
     "output_type": "stream",
     "text": [
      "{1, 2, 3, 8, 10}\n"
     ]
    }
   ],
   "source": [
    "c ^= b # symmetric difference update function can be defined either by ^= or symmetric_difference_update() function\n",
    "print(c)"
   ]
  },
  {
   "cell_type": "code",
   "execution_count": 144,
   "id": "4dd948ee-c5fa-45bc-be7a-e02a0c7e3268",
   "metadata": {},
   "outputs": [
    {
     "name": "stdout",
     "output_type": "stream",
     "text": [
      "{4, 5, 6, 7, 8}\n"
     ]
    }
   ],
   "source": [
    "print(b)"
   ]
  },
  {
   "cell_type": "code",
   "execution_count": 145,
   "id": "47afa06a-e1d7-4c17-ae9e-9940e04543c5",
   "metadata": {},
   "outputs": [
    {
     "name": "stdout",
     "output_type": "stream",
     "text": [
      "{8, 9, 10}\n",
      "{4, 5, 6, 7, 8}\n"
     ]
    }
   ],
   "source": [
    "print(a)\n",
    "print(b)"
   ]
  },
  {
   "cell_type": "code",
   "execution_count": 146,
   "id": "9eb3e617-d833-4e99-b3dd-bb0022156b73",
   "metadata": {},
   "outputs": [
    {
     "name": "stdout",
     "output_type": "stream",
     "text": [
      "{5, 4, 9, 10, 6, 7}\n",
      "{4, 5, 6, 7, 8}\n"
     ]
    }
   ],
   "source": [
    "a ^= b # set a is modified with uncommon elements of both a and b sets\n",
    "print(a)\n",
    "print(b)"
   ]
  },
  {
   "cell_type": "code",
   "execution_count": 147,
   "id": "c752136d-f09d-4c3a-ae59-4a39f26f1c29",
   "metadata": {},
   "outputs": [
    {
     "data": {
      "text/plain": [
       "{1, 2, 3, 8, 10}"
      ]
     },
     "execution_count": 147,
     "metadata": {},
     "output_type": "execute_result"
    }
   ],
   "source": [
    "c # original c set is modified after the symmetric_difference_update() function"
   ]
  },
  {
   "cell_type": "markdown",
   "id": "84f2e611-1308-42bf-b8e1-06d11e3f2fdf",
   "metadata": {},
   "source": [
    "### Subset, Superset and disjoint"
   ]
  },
  {
   "cell_type": "markdown",
   "id": "26ab0bca-b6bc-479d-b1ad-f63dfd124034",
   "metadata": {},
   "source": [
    "#### superset (superclass in OOPS) - dad (has his unique features)\n",
    "#### subset (subclass in OOPS) - son (son has both dad's features and his unique features)\n",
    "#### disjoint - neighbour (has no common features)"
   ]
  },
  {
   "cell_type": "code",
   "execution_count": 149,
   "id": "dd240d3e-9d37-46c9-a39b-111bce5a804f",
   "metadata": {},
   "outputs": [],
   "source": [
    "a1 = {1,2,3,4,5,6,7,8,9}\n",
    "b1 = {4,5,6,7,8}\n",
    "c1 = {8,9,10}"
   ]
  },
  {
   "cell_type": "code",
   "execution_count": 150,
   "id": "9bd43cfc-37d2-4002-95dd-4e300c962bb3",
   "metadata": {},
   "outputs": [
    {
     "name": "stdout",
     "output_type": "stream",
     "text": [
      "{1, 2, 3, 4, 5, 6, 7, 8, 9}\n",
      "{4, 5, 6, 7, 8}\n",
      "{8, 9, 10}\n"
     ]
    }
   ],
   "source": [
    "print(a1) # copying the original values for practice\n",
    "print(b1)\n",
    "print(c1)"
   ]
  },
  {
   "cell_type": "code",
   "execution_count": 155,
   "id": "32233326-253d-4f4e-b0a1-c5eb99fc61fd",
   "metadata": {},
   "outputs": [
    {
     "data": {
      "text/plain": [
       "False"
      ]
     },
     "execution_count": 155,
     "metadata": {},
     "output_type": "execute_result"
    }
   ],
   "source": [
    "a1.issubset(b1) # subset should have all the elements that are available in other set(a1 has more elements than b1, so a1 isn't a subset of b1) "
   ]
  },
  {
   "cell_type": "code",
   "execution_count": 156,
   "id": "084b886d-7df7-48c8-967f-4fd759d513cb",
   "metadata": {},
   "outputs": [
    {
     "data": {
      "text/plain": [
       "True"
      ]
     },
     "execution_count": 156,
     "metadata": {},
     "output_type": "execute_result"
    }
   ],
   "source": [
    "b1.issubset(a1) # b1 is a subset of a1 as a has all the elements present in b1 "
   ]
  },
  {
   "cell_type": "code",
   "execution_count": 157,
   "id": "27629321-83b0-4283-910d-4090667b2fed",
   "metadata": {},
   "outputs": [
    {
     "data": {
      "text/plain": [
       "False"
      ]
     },
     "execution_count": 157,
     "metadata": {},
     "output_type": "execute_result"
    }
   ],
   "source": [
    "b1.issuperset(a1) # b1 is not a superset of a1, as a1 has more elements than b1 excluding the common elements "
   ]
  },
  {
   "cell_type": "code",
   "execution_count": 154,
   "id": "1b430727-5f16-4dcf-b953-f5a3cadbd1f7",
   "metadata": {},
   "outputs": [
    {
     "name": "stdout",
     "output_type": "stream",
     "text": [
      "{1, 2, 3, 4, 5, 6, 7, 8, 9}\n",
      "{4, 5, 6, 7, 8}\n",
      "{8, 9, 10}\n"
     ]
    }
   ],
   "source": [
    "print(a1)\n",
    "print(b1)\n",
    "print(c1)"
   ]
  },
  {
   "cell_type": "code",
   "execution_count": 120,
   "id": "673c0f5f-fd7a-4c4d-8c94-4320b59c8458",
   "metadata": {},
   "outputs": [
    {
     "data": {
      "text/plain": [
       "False"
      ]
     },
     "execution_count": 120,
     "metadata": {},
     "output_type": "execute_result"
    }
   ],
   "source": [
    "a1.isdisjoint(c1) # returns True if both sets have no common elements, if both sets have common elements then it returns False"
   ]
  },
  {
   "cell_type": "code",
   "execution_count": 158,
   "id": "acd8e74e-c885-44a2-89ed-1e0f61586c87",
   "metadata": {},
   "outputs": [
    {
     "data": {
      "text/plain": [
       "False"
      ]
     },
     "execution_count": 158,
     "metadata": {},
     "output_type": "execute_result"
    }
   ],
   "source": [
    "b1.isdisjoint(c1) # b1 and c1 sets have common elements{8}, so it returns False"
   ]
  },
  {
   "cell_type": "code",
   "execution_count": 159,
   "id": "d9c0d5cb-f6a8-4e60-bd2e-f324d987ae1a",
   "metadata": {},
   "outputs": [
    {
     "data": {
      "text/plain": [
       "False"
      ]
     },
     "execution_count": 159,
     "metadata": {},
     "output_type": "execute_result"
    }
   ],
   "source": [
    "a1.isdisjoint(b1) # a1 and b1 have common elements {4,5,6,7,8}, hence it returns False"
   ]
  },
  {
   "cell_type": "code",
   "execution_count": 161,
   "id": "8537e5a2-13a8-430d-9729-f5cf6f288a03",
   "metadata": {},
   "outputs": [],
   "source": [
    "d1 = {1,2,3}"
   ]
  },
  {
   "cell_type": "code",
   "execution_count": 162,
   "id": "055471ae-105c-40d5-9428-c805a460cc6e",
   "metadata": {},
   "outputs": [
    {
     "data": {
      "text/plain": [
       "True"
      ]
     },
     "execution_count": 162,
     "metadata": {},
     "output_type": "execute_result"
    }
   ],
   "source": [
    "d1.isdisjoint(c1) # c1 and d1 sets have 0 or no common elements, so it returns True"
   ]
  },
  {
   "cell_type": "code",
   "execution_count": 163,
   "id": "e9df704d-cb00-4183-ab50-b015fdbc01ae",
   "metadata": {},
   "outputs": [
    {
     "data": {
      "text/plain": [
       "False"
      ]
     },
     "execution_count": 163,
     "metadata": {},
     "output_type": "execute_result"
    }
   ],
   "source": [
    "d1.isdisjoint(a1) # {1,2,3} are common"
   ]
  },
  {
   "cell_type": "code",
   "execution_count": 164,
   "id": "8ad367d6-ad79-4765-a12b-300924c0ecc7",
   "metadata": {},
   "outputs": [
    {
     "data": {
      "text/plain": [
       "True"
      ]
     },
     "execution_count": 164,
     "metadata": {},
     "output_type": "execute_result"
    }
   ],
   "source": [
    "d1.isdisjoint(b1) # no common elements"
   ]
  },
  {
   "cell_type": "markdown",
   "id": "50255cb6-8ba0-421b-a347-bd608ad5e118",
   "metadata": {},
   "source": [
    "### discard"
   ]
  },
  {
   "cell_type": "code",
   "execution_count": 165,
   "id": "0ef63406-8300-47f1-a025-b3559bf63e57",
   "metadata": {},
   "outputs": [
    {
     "name": "stdout",
     "output_type": "stream",
     "text": [
      "{8, 9, 10}\n",
      "{1, 2, 3}\n"
     ]
    }
   ],
   "source": [
    "print(c1)\n",
    "print(d1)"
   ]
  },
  {
   "cell_type": "code",
   "execution_count": 166,
   "id": "f319bad2-e5dc-4b0f-8233-feb65d2d6b48",
   "metadata": {},
   "outputs": [
    {
     "ename": "KeyError",
     "evalue": "1",
     "output_type": "error",
     "traceback": [
      "\u001b[1;31m---------------------------------------------------------------------------\u001b[0m",
      "\u001b[1;31mKeyError\u001b[0m                                  Traceback (most recent call last)",
      "Cell \u001b[1;32mIn[166], line 1\u001b[0m\n\u001b[1;32m----> 1\u001b[0m c1\u001b[38;5;241m.\u001b[39mremove(\u001b[38;5;241m1\u001b[39m)\n",
      "\u001b[1;31mKeyError\u001b[0m: 1"
     ]
    }
   ],
   "source": [
    "c1.remove(1) # remove function will delete the specified element if it's a member of the set otherwise it will throw an error"
   ]
  },
  {
   "cell_type": "code",
   "execution_count": 167,
   "id": "89f33c85-a47a-4aa3-b3bb-869265ef0cb9",
   "metadata": {},
   "outputs": [],
   "source": [
    "c1.discard(1) # discard will delete the element if it's a member of the set else it won't throw any error"
   ]
  },
  {
   "cell_type": "code",
   "execution_count": 168,
   "id": "05a5ef97-24c9-4b1d-9609-408bc4b1174a",
   "metadata": {},
   "outputs": [],
   "source": [
    "d1.discard(10) # 10 is not present in d, so discard will returns nothing and no exception will be thrown like remove() function  "
   ]
  },
  {
   "cell_type": "code",
   "execution_count": null,
   "id": "7a977d95-23ad-4dd0-b717-dea74202f831",
   "metadata": {},
   "outputs": [],
   "source": []
  }
 ],
 "metadata": {
  "kernelspec": {
   "display_name": "Python 3 (ipykernel)",
   "language": "python",
   "name": "python3"
  },
  "language_info": {
   "codemirror_mode": {
    "name": "ipython",
    "version": 3
   },
   "file_extension": ".py",
   "mimetype": "text/x-python",
   "name": "python",
   "nbconvert_exporter": "python",
   "pygments_lexer": "ipython3",
   "version": "3.12.7"
  }
 },
 "nbformat": 4,
 "nbformat_minor": 5
}
